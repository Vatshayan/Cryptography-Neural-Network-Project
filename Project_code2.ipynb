{
  "nbformat": 4,
  "nbformat_minor": 0,
  "metadata": {
    "colab": {
      "name": "Project_code2.ipynb",
      "provenance": []
    },
    "kernelspec": {
      "name": "python3",
      "display_name": "Python 3"
    }
  },
  "cells": [
    {
      "cell_type": "markdown",
      "metadata": {
        "id": "jajJE0CFei1I"
      },
      "source": [
        "\n",
        "GAN\n"
      ]
    },
    {
      "cell_type": "code",
      "metadata": {
        "id": "VoPh4QOqenlJ"
      },
      "source": [
        "import tensorflow as tf\n",
        "import random\n",
        "import numpy as np\n",
        "import matplotlib.pyplot as plt\n",
        "%matplotlib inline"
      ],
      "execution_count": 1,
      "outputs": []
    },
    {
      "cell_type": "code",
      "metadata": {
        "id": "uYQWBJzWepyh"
      },
      "source": [
        ""
      ],
      "execution_count": null,
      "outputs": []
    },
    {
      "cell_type": "markdown",
      "metadata": {
        "id": "Ecfc8q7oeqRB"
      },
      "source": [
        "For Full Project, Mail me at (vatshayan007@gmail.com) Now"
      ]
    }
  ]
}