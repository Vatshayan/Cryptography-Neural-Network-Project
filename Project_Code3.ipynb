{
  "nbformat": 4,
  "nbformat_minor": 0,
  "metadata": {
    "colab": {
      "name": "Project_Code3.ipynb",
      "provenance": []
    },
    "kernelspec": {
      "name": "python3",
      "display_name": "Python 3"
    }
  },
  "cells": [
    {
      "cell_type": "markdown",
      "metadata": {
        "id": "y8tk7yUqfyJo"
      },
      "source": [
        "Convolution"
      ]
    },
    {
      "cell_type": "code",
      "metadata": {
        "id": "7hmRrahPf0PI"
      },
      "source": [
        "import keras\n",
        "from keras.datasets import mnist\n",
        "from keras.models import Sequential\n",
        "from keras.layers import Dense, Dropout, Flatten\n",
        "from keras.layers import Conv2D, MaxPooling2D\n",
        "import numpy as np"
      ],
      "execution_count": 1,
      "outputs": []
    },
    {
      "cell_type": "code",
      "metadata": {
        "id": "Fl3jjLfwf6Hc"
      },
      "source": [
        ""
      ],
      "execution_count": null,
      "outputs": []
    },
    {
      "cell_type": "markdown",
      "metadata": {
        "id": "5pA7CxKYf8I6"
      },
      "source": [
        "This is Just a Demo !"
      ]
    },
    {
      "cell_type": "code",
      "metadata": {
        "id": "5DINs1lkf_VG"
      },
      "source": [
        ""
      ],
      "execution_count": null,
      "outputs": []
    },
    {
      "cell_type": "markdown",
      "metadata": {
        "id": "laTEb4Auf_1m"
      },
      "source": [
        "For Full Project, Mail me at vatshayan007@gmail.com Now"
      ]
    },
    {
      "cell_type": "code",
      "metadata": {
        "id": "R4In0jA0gG81"
      },
      "source": [
        ""
      ],
      "execution_count": null,
      "outputs": []
    }
  ]
}